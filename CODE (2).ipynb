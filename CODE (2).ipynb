{
 "cells": [
  {
   "cell_type": "code",
   "execution_count": null,
   "id": "936a4f74",
   "metadata": {},
   "outputs": [],
   "source": [
    "Q1. Write a Python program which accepts the radius of a circle from the user and compute the area"
   ]
  },
  {
   "cell_type": "code",
   "execution_count": 16,
   "id": "b1059092",
   "metadata": {},
   "outputs": [
    {
     "name": "stdout",
     "output_type": "stream",
     "text": [
      "Enter the radius3\n",
      "The area of the circle is: 28.26\n"
     ]
    }
   ],
   "source": [
    "r=int(input(\"Enter the radius\"))\n",
    "pi=3.14\n",
    "a=pi*r**2\n",
    "print(\"The area of the circle is:\", a)\n"
   ]
  },
  {
   "cell_type": "code",
   "execution_count": null,
   "id": "31e4cbec",
   "metadata": {},
   "outputs": [],
   "source": [
    "Q2. Write a Python Program to accept the details of a student like name, roll\n",
    "number and mark and display it."
   ]
  },
  {
   "cell_type": "code",
   "execution_count": 1,
   "id": "2f23d2eb",
   "metadata": {},
   "outputs": [
    {
     "name": "stdout",
     "output_type": "stream",
     "text": [
      " Enter the name: Anisha\n",
      " Enter the roll number: 21\n",
      " Enter the Mark: 78\n"
     ]
    }
   ],
   "source": [
    "Class_student=input(\" Enter the name: \")\n",
    "Class_roll=int(input(\" Enter the roll number: \"))\n",
    "Class_Mark=int(input(\" Enter the Mark: \"))"
   ]
  },
  {
   "cell_type": "code",
   "execution_count": null,
   "id": "f1296763",
   "metadata": {},
   "outputs": [],
   "source": [
    "Q3. Write a Python program to get the largest number from a list."
   ]
  },
  {
   "cell_type": "code",
   "execution_count": 37,
   "id": "2906c0cf",
   "metadata": {},
   "outputs": [
    {
     "name": "stdout",
     "output_type": "stream",
     "text": [
      "The Largest number is: 47\n"
     ]
    }
   ],
   "source": [
    "List=[12,3,47,10]\n",
    "print(\"The Largest number is:\", max(List))"
   ]
  },
  {
   "cell_type": "markdown",
   "id": "0ae87083",
   "metadata": {},
   "source": [
    "Q4. Given a range of first 10 numbers, write a Python program to iterate from start number to the end number and print the sum of the current number and previous number."
   ]
  },
  {
   "cell_type": "code",
   "execution_count": 54,
   "id": "f3c7b378",
   "metadata": {},
   "outputs": [
    {
     "name": "stdout",
     "output_type": "stream",
     "text": [
      "Current Number: 0, Previous Number: 0, Sum is: 0\n",
      "Current Number: 1, Previous Number: 0, Sum is: 1\n",
      "Current Number: 2, Previous Number: 1, Sum is: 3\n",
      "Current Number: 3, Previous Number: 2, Sum is: 5\n",
      "Current Number: 4, Previous Number: 3, Sum is: 7\n",
      "Current Number: 5, Previous Number: 4, Sum is: 9\n",
      "Current Number: 6, Previous Number: 5, Sum is: 11\n",
      "Current Number: 7, Previous Number: 6, Sum is: 13\n",
      "Current Number: 8, Previous Number: 7, Sum is: 15\n",
      "Current Number: 9, Previous Number: 8, Sum is: 17\n"
     ]
    }
   ],
   "source": [
    "num = list(range(10))\n",
    "previousNum = 0\n",
    "for i in num:\n",
    "    sum = previousNum + i\n",
    "    print('Current Number: '+ str(i)+',' + ' Previous Number: ' + str(previousNum)+',' + ' Sum is: ' + str(sum))\n",
    "    previousNum=i\n",
    "          "
   ]
  },
  {
   "cell_type": "code",
   "execution_count": null,
   "id": "b92a187d",
   "metadata": {},
   "outputs": [],
   "source": [
    "Q5. Write a Python program to print only those numbers which are divisible of 5."
   ]
  },
  {
   "cell_type": "code",
   "execution_count": 1,
   "id": "918d6a55",
   "metadata": {},
   "outputs": [
    {
     "name": "stdout",
     "output_type": "stream",
     "text": [
      "Enter the numbers:10, 20,33,46,55\n",
      "10\n",
      "20\n",
      "55\n"
     ]
    }
   ],
   "source": [
    "Num_str=input('Enter the numbers:')\n",
    "Num_List=[10, 20,33,46,55]\n",
    "for i in Num_List:\n",
    "    if i%5==0:\n",
    "        print(i)"
   ]
  },
  {
   "cell_type": "code",
   "execution_count": null,
   "id": "21eada01",
   "metadata": {},
   "outputs": [],
   "source": [
    "Q6. Write a Python program to check whether a number is prime or not."
   ]
  },
  {
   "cell_type": "code",
   "execution_count": 30,
   "id": "176b31c8",
   "metadata": {},
   "outputs": [
    {
     "name": "stdout",
     "output_type": "stream",
     "text": [
      "Enter the number:3\n",
      "Number is prime\n"
     ]
    }
   ],
   "source": [
    "num=int(input(\"Enter the number:\"))\n",
    "if num>1:\n",
    "    \n",
    "    for i in range(2, int((num/2)+1)):\n",
    "        \n",
    "        if num%i == 0:\n",
    "            \n",
    "            print(\"Number is not a prime\")\n",
    "        \n",
    "    else:\n",
    "            print(\"Number is prime\")\n",
    "        \n",
    "            "
   ]
  },
  {
   "cell_type": "code",
   "execution_count": null,
   "id": "30df262f",
   "metadata": {},
   "outputs": [],
   "source": [
    "Q7. Write a Python program to reverse a list using for loop."
   ]
  },
  {
   "cell_type": "code",
   "execution_count": 1,
   "id": "02c9834a",
   "metadata": {},
   "outputs": [
    {
     "name": "stdout",
     "output_type": "stream",
     "text": [
      "Input List before reverse:  [10, 40, 30, 70]\n",
      "Input List after reverse:  [70, 30, 40, 10]\n"
     ]
    }
   ],
   "source": [
    "input_List=[10,40,30,70]\n",
    "print(\"Input List before reverse: \",input_List)\n",
    "input_List.reverse()\n",
    "print(\"Input List after reverse: \",input_List)"
   ]
  },
  {
   "cell_type": "code",
   "execution_count": null,
   "id": "0700e885",
   "metadata": {},
   "outputs": [],
   "source": [
    "Q8. Write a Python program to print the following pattern"
   ]
  },
  {
   "cell_type": "code",
   "execution_count": 3,
   "id": "896e8478",
   "metadata": {},
   "outputs": [
    {
     "name": "stdout",
     "output_type": "stream",
     "text": [
      "Enter the number of rows:3\n",
      "*\n",
      "**\n",
      "***\n"
     ]
    }
   ],
   "source": [
    "n=int(input(\"Enter the number of rows:\"))\n",
    "for i in range(n):\n",
    "    \n",
    "    for j in range(i+1):\n",
    "    \n",
    "           print(\"*\",end=\"\")\n",
    "    print()\n",
    "        \n",
    "        "
   ]
  },
  {
   "cell_type": "code",
   "execution_count": null,
   "id": "f38f9c4a",
   "metadata": {},
   "outputs": [],
   "source": [
    "Q9. Write a Python program to find the maximum of three numbers"
   ]
  },
  {
   "cell_type": "code",
   "execution_count": 2,
   "id": "ef9b1432",
   "metadata": {},
   "outputs": [
    {
     "name": "stdout",
     "output_type": "stream",
     "text": [
      "Enter the first number: 34\n",
      "Enter the second number: 12\n",
      "Enter the third number: 7\n",
      "The largest number is 34.0\n"
     ]
    }
   ],
   "source": [
    "N1=float(input(\"Enter the first number: \"))\n",
    "N2=float(input(\"Enter the second number: \"))\n",
    "N3=float(input(\"Enter the third number: \"))\n",
    "\n",
    "if (N1 >= N2) and (N1 >= N3):\n",
    "    Largest=N1\n",
    "elif N2 >= N1 and N2 >= N3:\n",
    "    Largest=N2\n",
    "else:\n",
    "    Largest=N3\n",
    "print(\"The largest number is\",Largest)"
   ]
  },
  {
   "cell_type": "code",
   "execution_count": null,
   "id": "289cdbfe",
   "metadata": {},
   "outputs": [],
   "source": [
    "Q10. Write a Python program to construct the following pattern, using a nested for loop."
   ]
  },
  {
   "cell_type": "code",
   "execution_count": 55,
   "id": "3283d5d0",
   "metadata": {},
   "outputs": [
    {
     "name": "stdout",
     "output_type": "stream",
     "text": [
      "Enter the number of rows: 5\n",
      "*\n",
      "**\n",
      "***\n",
      "****\n",
      "*****\n",
      "*****\n",
      "****\n",
      "***\n",
      "**\n",
      "*\n",
      "\n"
     ]
    }
   ],
   "source": [
    "n=int(input(\"Enter the number of rows: \"))\n",
    "for i in range(n):\n",
    "    \n",
    "        for j in range(i+1):\n",
    "        \n",
    "           print(\"*\",end=\"\")\n",
    "        print()\n",
    "        \n",
    "for i in range(n+1,0,-1):\n",
    "    \n",
    "        for j in range(i-1):\n",
    "        \n",
    "           print(\"*\",end=\"\")\n",
    "        print()\n",
    "        \n",
    "\n"
   ]
  },
  {
   "cell_type": "code",
   "execution_count": null,
   "id": "fa52fde0",
   "metadata": {},
   "outputs": [],
   "source": []
  }
 ],
 "metadata": {
  "kernelspec": {
   "display_name": "Python 3 (ipykernel)",
   "language": "python",
   "name": "python3"
  },
  "language_info": {
   "codemirror_mode": {
    "name": "ipython",
    "version": 3
   },
   "file_extension": ".py",
   "mimetype": "text/x-python",
   "name": "python",
   "nbconvert_exporter": "python",
   "pygments_lexer": "ipython3",
   "version": "3.11.5"
  }
 },
 "nbformat": 4,
 "nbformat_minor": 5
}
